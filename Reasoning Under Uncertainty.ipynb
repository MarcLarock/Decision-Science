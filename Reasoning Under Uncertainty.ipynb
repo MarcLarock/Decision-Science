{
 "cells": [
  {
   "cell_type": "markdown",
   "metadata": {},
   "source": [
    "### Quantifying Uncertainty in Medical Diagnoses"
   ]
  },
  {
   "cell_type": "markdown",
   "metadata": {},
   "source": [
    "#### Predicting Side Effects"
   ]
  },
  {
   "cell_type": "code",
   "execution_count": 23,
   "metadata": {
    "collapsed": true
   },
   "outputs": [],
   "source": [
    "import numpy as np\n",
    "import pgmpy\n",
    "from itertools import product\n",
    "import pgmpy.inference\n",
    "import pgmpy.factors\n",
    "import pgmpy.models\n",
    "import pgmpy.extern\n",
    "import warnings\n",
    "warnings.filterwarnings('ignore')"
   ]
  },
  {
   "cell_type": "markdown",
   "metadata": {},
   "source": [
    "Step 1: Define network structure by adding all nodes to the Bayesian model."
   ]
  },
  {
   "cell_type": "code",
   "execution_count": 24,
   "metadata": {
    "collapsed": true
   },
   "outputs": [],
   "source": [
    "# Starting with defining the network structure\n",
    "from pgmpy.models import BayesianModel\n",
    "from pgmpy.inference import BeliefPropagation\n",
    "\n",
    "#add nodes\n",
    "sideEffects_model = BayesianModel([('SideEffect', 'Rash'), \n",
    "                                  ('Allergies', 'Rash'),\n",
    "                                  ('Rash', 'Xerostomia'),\n",
    "                                  ('Rash', 'Hives'),\n",
    "                                  ('Anxiety', 'Xerostomia')])\n",
    " "
   ]
  },
  {
   "cell_type": "markdown",
   "metadata": {},
   "source": [
    "Step 2: Define conditional probability distributions."
   ]
  },
  {
   "cell_type": "code",
   "execution_count": 25,
   "metadata": {
    "collapsed": true
   },
   "outputs": [],
   "source": [
    "from pgmpy.factors.discrete import TabularCPD\n",
    "\n",
    "cpd_sideEffects = TabularCPD(variable='SideEffect', variable_card=2,\n",
    "                          values=[[0.99],  #!side effects\n",
    "                                  [0.01]]) #side effects\n",
    "\n",
    "cpd_rash = TabularCPD(variable='Rash', variable_card=2,\n",
    "                       values=[[0.999, 0.06, 0.71, 0.05],\n",
    "                               [0.001, 0.94, 0.29, 0.95]], \n",
    "                       evidence=['Allergies', 'SideEffect'], \n",
    "                       evidence_card=[2, 2])\n",
    "\n",
    "cpd_allergies = TabularCPD(variable='Allergies',\n",
    "                            variable_card=2,\n",
    "                            values=[[0.98],   #!allergies\n",
    "                                    [0.02]])  #allergies\n",
    "\n",
    "cpd_anxiety = TabularCPD(variable='Anxiety',\n",
    "                          variable_card=2,\n",
    "                          values=[[0.95],   #!anxiety\n",
    "                                  [0.05]])  #anxiety\n",
    "\n",
    "cpd_xerostomia = TabularCPD(variable='Xerostomia',\n",
    "                           variable_card=2,\n",
    "                           values=[[0.99, 0.50, 0.10, 0.05],#!dry mouth\n",
    "                               [0.01, 0.50, 0.90, 0.95]],   #dry mouth\n",
    "                           evidence=['Rash', 'Anxiety'],\n",
    "                           evidence_card=[2, 2])\n",
    "\n",
    "cpd_hives = TabularCPD(variable='Hives',\n",
    "                           variable_card=2,\n",
    "                           values=[[0.99, 0.30],  #!hives\n",
    "                                   [0.01, 0.70]], #hives\n",
    "                           evidence=['Rash'],\n",
    "                           evidence_card=[2])"
   ]
  },
  {
   "cell_type": "markdown",
   "metadata": {},
   "source": [
    "Step 3: Add conditional probabilities and check model"
   ]
  },
  {
   "cell_type": "code",
   "execution_count": 26,
   "metadata": {},
   "outputs": [
    {
     "data": {
      "text/plain": [
       "True"
      ]
     },
     "execution_count": 26,
     "metadata": {},
     "output_type": "execute_result"
    }
   ],
   "source": [
    "# Associate the CPDs with the network\n",
    "sideEffects_model.add_cpds(cpd_sideEffects, cpd_rash, cpd_allergies, cpd_anxiety, cpd_xerostomia, cpd_hives)\n",
    "# Check network structure and CPDs and verify that probabilities sum to 1\n",
    "sideEffects_model.check_model()"
   ]
  },
  {
   "cell_type": "code",
   "execution_count": 27,
   "metadata": {},
   "outputs": [
    {
     "name": "stdout",
     "output_type": "stream",
     "text": [
      "+------------+--------------+--------------+--------------+--------------+\n",
      "| Allergies  | Allergies_0  | Allergies_0  | Allergies_1  | Allergies_1  |\n",
      "+------------+--------------+--------------+--------------+--------------+\n",
      "| SideEffect | SideEffect_0 | SideEffect_1 | SideEffect_0 | SideEffect_1 |\n",
      "+------------+--------------+--------------+--------------+--------------+\n",
      "| Rash_0     | 0.999        | 0.06         | 0.71         | 0.05         |\n",
      "+------------+--------------+--------------+--------------+--------------+\n",
      "| Rash_1     | 0.001        | 0.94         | 0.29         | 0.95         |\n",
      "+------------+--------------+--------------+--------------+--------------+\n"
     ]
    }
   ],
   "source": [
    "# Example: Look at CPD of Alarm\n",
    "print(sideEffects_model.get_cpds('Rash'))"
   ]
  },
  {
   "cell_type": "markdown",
   "metadata": {},
   "source": [
    "Step 4: Analyze network independencies"
   ]
  },
  {
   "cell_type": "code",
   "execution_count": 28,
   "metadata": {},
   "outputs": [
    {
     "name": "stdout",
     "output_type": "stream",
     "text": [
      "(Rash _|_ Anxiety | SideEffect, Allergies)\n",
      "(SideEffect _|_ Anxiety, Allergies)\n",
      "(Rash _|_ Anxiety | SideEffect, Allergies)\n",
      "(Xerostomia _|_ Hives, SideEffect, Allergies | Anxiety, Rash)\n",
      "(Hives _|_ Anxiety, SideEffect, Xerostomia, Allergies | Rash)\n",
      "(Anxiety _|_ Hives, SideEffect, Rash, Allergies)\n"
     ]
    }
   ],
   "source": [
    "# Get all local dependencies in the network\n",
    "print(sideEffects_model.local_independencies(['Rash','SideEffect','Rash','Xerostomia','Hives','Anxiety']))"
   ]
  },
  {
   "cell_type": "markdown",
   "metadata": {},
   "source": [
    "Step 5: Active trails"
   ]
  },
  {
   "cell_type": "code",
   "execution_count": 29,
   "metadata": {},
   "outputs": [
    {
     "name": "stdout",
     "output_type": "stream",
     "text": [
      "{'Allergies': {'Hives', 'Xerostomia', 'Rash', 'Allergies'}}\n"
     ]
    }
   ],
   "source": [
    " print(sideEffects_model.active_trail_nodes('Allergies'))"
   ]
  },
  {
   "cell_type": "markdown",
   "metadata": {},
   "source": [
    "Step 6: Inference in Bayesian networks"
   ]
  },
  {
   "cell_type": "markdown",
   "metadata": {},
   "source": [
    "Before posing new queries to the network, I will verify the existing queries"
   ]
  },
  {
   "cell_type": "code",
   "execution_count": 30,
   "metadata": {
    "collapsed": true
   },
   "outputs": [],
   "source": [
    "belief_propagation = BeliefPropagation(sideEffects_model)"
   ]
  },
  {
   "cell_type": "code",
   "execution_count": 31,
   "metadata": {},
   "outputs": [
    {
     "name": "stdout",
     "output_type": "stream",
     "text": [
      "+--------+-------------+\n",
      "| Rash   |   phi(Rash) |\n",
      "+========+=============+\n",
      "| Rash_0 |      0.7034 |\n",
      "+--------+-------------+\n",
      "| Rash_1 |      0.2966 |\n",
      "+--------+-------------+\n"
     ]
    }
   ],
   "source": [
    "q = belief_propagation.query(['Rash'],evidence={'Allergies':1}) \n",
    "print(q['Rash'])"
   ]
  },
  {
   "cell_type": "code",
   "execution_count": 32,
   "metadata": {},
   "outputs": [
    {
     "name": "stdout",
     "output_type": "stream",
     "text": [
      "+--------+-------------+\n",
      "| Rash   |   phi(Rash) |\n",
      "+========+=============+\n",
      "| Rash_0 |      0.9896 |\n",
      "+--------+-------------+\n",
      "| Rash_1 |      0.0104 |\n",
      "+--------+-------------+\n"
     ]
    }
   ],
   "source": [
    "q = belief_propagation.query(['Rash'], evidence={'Allergies':0}) \n",
    "print(q['Rash'])"
   ]
  },
  {
   "cell_type": "markdown",
   "metadata": {},
   "source": [
    "Causal inference:"
   ]
  },
  {
   "cell_type": "code",
   "execution_count": 33,
   "metadata": {},
   "outputs": [
    {
     "name": "stdout",
     "output_type": "stream",
     "text": [
      "+--------------+-------------------+\n",
      "| Xerostomia   |   phi(Xerostomia) |\n",
      "+==============+===================+\n",
      "| Xerostomia_0 |            0.1494 |\n",
      "+--------------+-------------------+\n",
      "| Xerostomia_1 |            0.8506 |\n",
      "+--------------+-------------------+\n"
     ]
    }
   ],
   "source": [
    "#Query: Given the observation of side effects, what is the probability of dry mouth?\n",
    "q = belief_propagation.query(['Xerostomia'], evidence={'SideEffect': 1}) \n",
    "print(q['Xerostomia'])"
   ]
  },
  {
   "cell_type": "code",
   "execution_count": 34,
   "metadata": {},
   "outputs": [
    {
     "name": "stdout",
     "output_type": "stream",
     "text": [
      "+---------+--------------+\n",
      "| Hives   |   phi(Hives) |\n",
      "+=========+==============+\n",
      "| Hives_0 |       0.7853 |\n",
      "+---------+--------------+\n",
      "| Hives_1 |       0.2147 |\n",
      "+---------+--------------+\n"
     ]
    }
   ],
   "source": [
    "#Query: Given allergies, what is the probability of having Hives?\n",
    "q = belief_propagation.query(['Hives'], evidence={'Allergies': 1}) \n",
    "print(q['Hives'])"
   ]
  },
  {
   "cell_type": "markdown",
   "metadata": {},
   "source": [
    "Diagnostic inference:"
   ]
  },
  {
   "cell_type": "code",
   "execution_count": 35,
   "metadata": {},
   "outputs": [
    {
     "name": "stdout",
     "output_type": "stream",
     "text": [
      "+--------------+-------------------+\n",
      "| SideEffect   |   phi(SideEffect) |\n",
      "+==============+===================+\n",
      "| SideEffect_0 |            0.4165 |\n",
      "+--------------+-------------------+\n",
      "| SideEffect_1 |            0.5835 |\n",
      "+--------------+-------------------+\n"
     ]
    }
   ],
   "source": [
    "#Query: Given that a patient has both a rash and hives, what is the probability for a side effect occuring?\n",
    "q = belief_propagation.query(['SideEffect'], evidence={'Rash': 1,'Hives': 1}) \n",
    "print(q['SideEffect'])"
   ]
  },
  {
   "cell_type": "markdown",
   "metadata": {},
   "source": [
    "Intercausal inference:"
   ]
  },
  {
   "cell_type": "code",
   "execution_count": 38,
   "metadata": {},
   "outputs": [
    {
     "name": "stdout",
     "output_type": "stream",
     "text": [
      "+--------------+-------------------+\n",
      "| SideEffect   |   phi(SideEffect) |\n",
      "+==============+===================+\n",
      "| SideEffect_0 |            0.9680 |\n",
      "+--------------+-------------------+\n",
      "| SideEffect_1 |            0.0320 |\n",
      "+--------------+-------------------+\n"
     ]
    }
   ],
   "source": [
    "#Query: Given both a rash and allergies, what is the probability for a side effect?\n",
    "q = belief_propagation.query(['SideEffect'], evidence={'Rash': 1,'Allergies': 1}) \n",
    "print(q['SideEffect'])"
   ]
  },
  {
   "cell_type": "code",
   "execution_count": 39,
   "metadata": {},
   "outputs": [
    {
     "name": "stdout",
     "output_type": "stream",
     "text": [
      "+-----------+----------------+\n",
      "| Anxiety   |   phi(Anxiety) |\n",
      "+===========+================+\n",
      "| Anxiety_0 |         0.4769 |\n",
      "+-----------+----------------+\n",
      "| Anxiety_1 |         0.5231 |\n",
      "+-----------+----------------+\n"
     ]
    }
   ],
   "source": [
    "#Query: Given a patient with dry mouth, what is the probability for anxiety being the cause?\n",
    "q = belief_propagation.query(['Anxiety'], evidence={'Xerostomia': 1}) \n",
    "print(q['Anxiety'])"
   ]
  },
  {
   "cell_type": "markdown",
   "metadata": {},
   "source": [
    "Mixed inference:"
   ]
  },
  {
   "cell_type": "code",
   "execution_count": 40,
   "metadata": {},
   "outputs": [
    {
     "name": "stdout",
     "output_type": "stream",
     "text": [
      "+--------+-------------+\n",
      "| Rash   |   phi(Rash) |\n",
      "+========+=============+\n",
      "| Rash_0 |      0.7845 |\n",
      "+--------+-------------+\n",
      "| Rash_1 |      0.2155 |\n",
      "+--------+-------------+\n"
     ]
    }
   ],
   "source": [
    "#Query: Given a patient with dry mouth and no allergies, what is the probability of getting a rash? \n",
    "#Diagnostic and causal inference\n",
    "q = belief_propagation.query(['Rash'], evidence={'Xerostomia': 1, 'Allergies': 0}) \n",
    "print(q['Rash'])"
   ]
  },
  {
   "cell_type": "markdown",
   "metadata": {},
   "source": [
    "Step 7: Making Decisions"
   ]
  },
  {
   "cell_type": "code",
   "execution_count": 41,
   "metadata": {},
   "outputs": [
    {
     "name": "stdout",
     "output_type": "stream",
     "text": [
      "{'SideEffect': 0, 'Anxiety': 1}\n"
     ]
    }
   ],
   "source": [
    "#Query 1: What is the cause for dry mouth if there is no side effect?\n",
    "q = belief_propagation.map_query(variables=['SideEffect','Anxiety'], evidence={'Xerostomia': 1, 'Allergies': 0})\n",
    "print(q)"
   ]
  },
  {
   "cell_type": "code",
   "execution_count": 42,
   "metadata": {},
   "outputs": [
    {
     "name": "stdout",
     "output_type": "stream",
     "text": [
      "{'SideEffect': 1, 'Anxiety': 0}\n"
     ]
    }
   ],
   "source": [
    "#Query 2: And what if the patient also has hives?\n",
    "q = belief_propagation.map_query(variables=['SideEffect','Anxiety'], \n",
    "                                 evidence={'Xerostomia': 1,'Hives': 1,'Allergies': 0})\n",
    "print(q)"
   ]
  }
 ],
 "metadata": {
  "kernelspec": {
   "display_name": "Python 3",
   "language": "python",
   "name": "python3"
  },
  "language_info": {
   "codemirror_mode": {
    "name": "ipython",
    "version": 3
   },
   "file_extension": ".py",
   "mimetype": "text/x-python",
   "name": "python",
   "nbconvert_exporter": "python",
   "pygments_lexer": "ipython3",
   "version": "3.6.8"
  }
 },
 "nbformat": 4,
 "nbformat_minor": 2
}
