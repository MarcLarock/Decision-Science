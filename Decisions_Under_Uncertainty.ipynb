{
 "cells": [
  {
   "cell_type": "markdown",
   "metadata": {},
   "source": [
    "# Alpha-Index, Maximin, and Leximin Rules for Decisions Under Uncertainty"
   ]
  },
  {
   "cell_type": "markdown",
   "metadata": {},
   "source": [
    "## Alpha-Index\n",
    "\n",
    "Originally proposed by [Hurwicz](https://en.wikipedia.org/wiki/Leonid_Hurwicz), the $\\alpha$-index framework for decision-making considers both the best and worst possible outcomes of each alternative. The rule dictates that one chooses an alternative according to one's degree of optimism (or pessimism). So:\n",
    " \n",
    "$$\n",
    "AlphaIndex=\\alpha \\bullet max(a_i)+(1-\\alpha)\\bullet min(a_i)\n",
    "$$\n",
    "\n",
    "---\n",
    "\n",
    "Assuming:\n",
    "\n",
    "- A decision maker's degree of optimism can be represented by a real number, $\\alpha$ between $0$ and $1$.\n",
    "- $\\alpha$ can rationally assumed to be fixed throughout the evaluation of alternatives, $a_i$.\n",
    "\n",
    "---\n",
    "\n",
    "Therefore, we have: \n",
    "\n",
    "$$\n",
    "a_i \\succ a_j \\Leftrightarrow \\alpha \\bullet max(a_i)+(1-\\alpha)\\bullet min(a_i) > \\alpha \\bullet max(a_j)+(1-\\alpha)\\bullet min(a_j) \n",
    "$$\n",
    "\n",
    "\n"
   ]
  },
  {
   "cell_type": "markdown",
   "metadata": {},
   "source": [
    "As an example consider the following decision matrix:\n",
    "\n",
    "$$\n",
    "\\begin{matrix}\n",
    "    a_1 & 14 & 12 & 27 & 10 & 36 & 100\\\\\n",
    "    \\hline\n",
    "    a_2 & 30 & 19 & 66 & 43 & 47 & 77\n",
    "\\end{matrix}\\qquad\n",
    "$$\n",
    "\n",
    "We can use numpy to help us make decisions in this scenario, given an $\\alpha$-level of $0.7$:"
   ]
  },
  {
   "cell_type": "code",
   "execution_count": 1,
   "metadata": {},
   "outputs": [
    {
     "name": "stdout",
     "output_type": "stream",
     "text": [
      "73.0 59.6\n"
     ]
    }
   ],
   "source": [
    "import numpy as np\n",
    "A = np.array([14, 12, 27, 10, 36, 100])\n",
    "B = np.array([30, 19, 66, 43, 47, 77])\n",
    "\n",
    "alpha = 0.7\n",
    "l = alpha*np.max(A)+(1-alpha)*np.min(A)\n",
    "h = alpha*np.max(B)+(1-alpha)*np.min(B)\n",
    "\n",
    "print(l,h)"
   ]
  },
  {
   "cell_type": "markdown",
   "metadata": {},
   "source": [
    "Since, $73>59.6$, it follows that alternative $a_1$ is better than alternative $a_2$.\n",
    "\n",
    "---"
   ]
  },
  {
   "cell_type": "markdown",
   "metadata": {},
   "source": [
    "## Maximin"
   ]
  },
  {
   "cell_type": "markdown",
   "metadata": {},
   "source": [
    "The so-called maximin principle places all weight in the decision calculus on the worst case scenario. According to this view, one should choose so as to maximize the minimal value between possible actions. This view can formalized as follows, given that $min(a_i)$ is the minimal value obtainable with choice $a_i$. Then we have: "
   ]
  },
  {
   "cell_type": "markdown",
   "metadata": {},
   "source": [
    "$$\n",
    "a_i \\succeq a_j \\Leftrightarrow min(a_i) \\geq min(a_j)\n",
    "$$\n"
   ]
  },
  {
   "cell_type": "markdown",
   "metadata": {},
   "source": [
    "As an example, consider the following decision matrix:\n",
    "\n",
    "$$\n",
    "\\begin{matrix}\n",
    "    a_1 & 4 & 12 & 11 & 0\\\\\n",
    "    \\hline\n",
    "    a_2 & 6 & -4 & 66 & 143\\\\\n",
    "    \\hline\n",
    "    a_3 & 5 & 7 & 1 & 6\n",
    "\\end{matrix}\\qquad\n",
    "$$"
   ]
  },
  {
   "cell_type": "markdown",
   "metadata": {},
   "source": [
    "The maximin rule demands that one choose $a_3$, since the worst case scenario for $a_3$ is $1$, which is better than the worst-case scenarios for $a_1$ and $a_2$. We can confirm this with Python: "
   ]
  },
  {
   "cell_type": "code",
   "execution_count": 2,
   "metadata": {
    "collapsed": true
   },
   "outputs": [],
   "source": [
    "import numpy as np\n",
    "m = np.array([[4, 12, 11, 0], [6, -4, 66, 143], [5, 7, 1, 6]])\n",
    "\n",
    "def maximin(m):\n",
    "    return m.min(axis=1)"
   ]
  },
  {
   "cell_type": "code",
   "execution_count": 3,
   "metadata": {},
   "outputs": [
    {
     "data": {
      "text/plain": [
       "array([ 0, -4,  1])"
      ]
     },
     "execution_count": 3,
     "metadata": {},
     "output_type": "execute_result"
    }
   ],
   "source": [
    "maximin(m)"
   ]
  },
  {
   "cell_type": "markdown",
   "metadata": {
    "collapsed": true
   },
   "source": [
    "---\n",
    "\n",
    "## Leximin"
   ]
  },
  {
   "cell_type": "markdown",
   "metadata": {},
   "source": [
    "One alternative to decision-making in this context is the so-called leximin rule. Like the maximin rule, it holds that decision makers should maximize the minimal value obtainable with each act. However, if the worst outcomes available are equally bad, one should choose the alternative in which the second worst outcome is as good as possible. Unless all possible outcomes are exactly parallel (with respect to their value), the leximin rule will, at some point, find an act that is better than its alternatives. This leads to the following formalization:"
   ]
  },
  {
   "cell_type": "markdown",
   "metadata": {},
   "source": [
    "$$\n",
    "a_i \\succ a_j \\Leftrightarrow \\exists n : min^n(a_i) > min^n(a_j) \\land min^m(a_i) = min^m(a_j) \\, \\forall  (m < n)\n",
    "$$"
   ]
  },
  {
   "cell_type": "markdown",
   "metadata": {},
   "source": [
    "As an example, consider the following decision matrix:\n",
    "\n",
    "$$\n",
    "\\begin{matrix}\n",
    "    a_1 & 4 & 12 & 11 & 6\\\\\n",
    "    \\hline\n",
    "    a_2 & 6 & 3 & 66 & 143\\\\\n",
    "    \\hline\n",
    "    a_3 & 5 & 5 & 5 & 6\n",
    "\\end{matrix}\\qquad\n",
    "$$"
   ]
  },
  {
   "cell_type": "markdown",
   "metadata": {},
   "source": [
    "In this scenario, the leximnin rule would recommend $a_3$. We can confirm this with Python:  "
   ]
  },
  {
   "cell_type": "code",
   "execution_count": 6,
   "metadata": {},
   "outputs": [],
   "source": [
    "import numpy as np\n",
    "from collections import Counter\n",
    "mask = 100000000\n",
    "m = np.array([[4, 12, 11, 6], [6, 3, 66, 143], [5, 5, 5, 6]])\n",
    "\n",
    "\n",
    "def leximin(m):\n",
    "    if np.all(m == m[0,:]):\n",
    "        return m.min(axis=1)\n",
    "    elif np.all(m != m[0,:]):\n",
    "        i = m.min(axis= 1)\n",
    "        j = np.unique(i).size\n",
    "        if j == len(m): \n",
    "            return i\n",
    "    else:\n",
    "        i = m.min(axis= 1)\n",
    "        j = np.unique(i).size\n",
    "        while j != len(m):\n",
    "            clone=[item for item, count in Counter(i).items() if count > 1]\n",
    "            matrix_copy = np.ndarray.flatten(m)\n",
    "            index=np.where(np.in1d(matrix_copy,clone))\n",
    "            matrix_copy[index] = mask \n",
    "            m = matrix_copy.reshape(m.shape[0],m.shape[1])    \n",
    "            i = m.min(axis= 1)\n",
    "            j = np.unique(i).size\n",
    "            \n",
    "        return i"
   ]
  },
  {
   "cell_type": "code",
   "execution_count": 7,
   "metadata": {},
   "outputs": [
    {
     "data": {
      "text/plain": [
       "array([4, 3, 5])"
      ]
     },
     "execution_count": 7,
     "metadata": {},
     "output_type": "execute_result"
    }
   ],
   "source": [
    "leximin(m)"
   ]
  },
  {
   "cell_type": "code",
   "execution_count": null,
   "metadata": {
    "collapsed": true
   },
   "outputs": [],
   "source": []
  }
 ],
 "metadata": {
  "kernelspec": {
   "display_name": "Python 3",
   "language": "python",
   "name": "python3"
  },
  "language_info": {
   "codemirror_mode": {
    "name": "ipython",
    "version": 3
   },
   "file_extension": ".py",
   "mimetype": "text/x-python",
   "name": "python",
   "nbconvert_exporter": "python",
   "pygments_lexer": "ipython3",
   "version": "3.6.8"
  }
 },
 "nbformat": 4,
 "nbformat_minor": 2
}
